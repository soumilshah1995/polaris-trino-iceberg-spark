{
 "cells": [
  {
   "cell_type": "markdown",
   "id": "42a4ba16-03d4-448d-9105-5340790c655c",
   "metadata": {},
   "source": [
    "# Getting Started with Polaris and Snowflake and Spark | hands on Guide"
   ]
  },
  {
   "cell_type": "markdown",
   "id": "70af359e-e9fa-4e34-80a6-5def2011377e",
   "metadata": {},
   "source": [
    "# Create an Account on snowflake "
   ]
  },
  {
   "cell_type": "markdown",
   "id": "6c7af040-bd07-4057-a81b-b4edc01d217d",
   "metadata": {},
   "source": [
    "```\n",
    "CREATE ACCOUNT MYACCOUNT\n",
    "   ADMIN_NAME = ''\n",
    "   ADMIN_PASSWORD = ''\n",
    "   MUST_CHANGE_PASSWORD = FALSE\n",
    "   EMAIL = ''\n",
    "   EDITION = STANDARD\n",
    "   REGION = 'AWS_US_EAST_1'\n",
    "   POLARIS = TRUE;\n",
    "```"
   ]
  },
  {
   "cell_type": "markdown",
   "id": "d9046181-9a9a-46cd-8ad8-0c9ae8fc73ff",
   "metadata": {},
   "source": []
  },
  {
   "cell_type": "markdown",
   "id": "604b132c-3a1f-46c5-9308-b868cda4ec50",
   "metadata": {},
   "source": [
    "\n",
    "#### Create Iam Role and policy\n",
    "```\n",
    "chmod +x ./role.sh\n",
    "./role.sh\n",
    "```\n"
   ]
  },
  {
   "cell_type": "markdown",
   "id": "1915fb73-3224-4e9a-a253-d58803d85661",
   "metadata": {},
   "source": [
    "# Step 1: Create Spark Session "
   ]
  },
  {
   "cell_type": "code",
   "execution_count": 5,
   "id": "fc9287b5-cd6f-4ead-aead-6224e93d5c09",
   "metadata": {},
   "outputs": [],
   "source": [
    "import os\n",
    "os.environ[\"JAVA_HOME\"] = \"/opt/homebrew/opt/openjdk@11\"\n",
    "\n",
    "import pyspark\n",
    "from pyspark.sql import SparkSession\n",
    "import os\n",
    "\n",
    "# Set environment variables for sensitive information\n",
    "os.environ[\"JAVA_HOME\"] = \"/opt/homebrew/opt/openjdk@11\"\n",
    "os.environ[\"ICEBERG_ACCESS_DELEGATION\"] = \"vended-credentials\"\n",
    "os.environ[\"ICEBERG_URI\"] = \"https://XXXXXXXX.snowflakecomputing.com/polaris/api/catalog\"\n",
    "os.environ[\"ICEBERG_CREDENTIAL\"] = \"XXX:XXXXX=\"\n",
    "os.environ[\"ICEBERG_WAREHOUSE\"] = \"XXX\"\n",
    "os.environ[\"ICEBERG_SCOPE\"] = \"PRINCIPAL_ROLE:XXXX\"\n",
    "\n",
    "\n",
    "# Initialize Spark session with the sensitive items sourced from environment variables\n",
    "spark = SparkSession.builder.appName('iceberg_lab') \\\n",
    ".config('spark.jars.packages', 'org.apache.iceberg:iceberg-spark-runtime-3.5_2.12:1.4.1,software.amazon.awssdk:bundle:2.20.160,software.amazon.awssdk:url-connection-client:2.20.160') \\\n",
    ".config('spark.sql.extensions', 'org.apache.iceberg.spark.extensions.IcebergSparkSessionExtensions') \\\n",
    ".config('spark.sql.defaultCatalog', 'opencatalog') \\\n",
    ".config('spark.sql.catalog.opencatalog', 'org.apache.iceberg.spark.SparkCatalog') \\\n",
    ".config('spark.sql.catalog.opencatalog.type', 'rest') \\\n",
    ".config('spark.sql.catalog.opencatalog.header.X-Iceberg-Access-Delegation', os.environ[\"ICEBERG_ACCESS_DELEGATION\"]) \\\n",
    ".config('spark.sql.catalog.opencatalog.uri', os.environ[\"ICEBERG_URI\"]) \\\n",
    ".config('spark.sql.catalog.opencatalog.credential', os.environ[\"ICEBERG_CREDENTIAL\"]) \\\n",
    ".config('spark.sql.catalog.opencatalog.warehouse', os.environ[\"ICEBERG_WAREHOUSE\"]) \\\n",
    ".config('spark.sql.catalog.opencatalog.scope', os.environ[\"ICEBERG_SCOPE\"]) \\\n",
    ".getOrCreate()"
   ]
  },
  {
   "cell_type": "code",
   "execution_count": 6,
   "id": "70b0e3a6-9a18-4e9d-b390-5f654e646a0f",
   "metadata": {},
   "outputs": [
    {
     "data": {
      "text/html": [
       "\n",
       "            <div>\n",
       "                <p><b>SparkSession - in-memory</b></p>\n",
       "                \n",
       "        <div>\n",
       "            <p><b>SparkContext</b></p>\n",
       "\n",
       "            <p><a href=\"http://soumils-mbp:4040\">Spark UI</a></p>\n",
       "\n",
       "            <dl>\n",
       "              <dt>Version</dt>\n",
       "                <dd><code>v3.4.0</code></dd>\n",
       "              <dt>Master</dt>\n",
       "                <dd><code>local[*]</code></dd>\n",
       "              <dt>AppName</dt>\n",
       "                <dd><code>iceberg_lab</code></dd>\n",
       "            </dl>\n",
       "        </div>\n",
       "        \n",
       "            </div>\n",
       "        "
      ],
      "text/plain": [
       "<pyspark.sql.session.SparkSession at 0x10d46b090>"
      ]
     },
     "execution_count": 6,
     "metadata": {},
     "output_type": "execute_result"
    }
   ],
   "source": [
    "spark"
   ]
  },
  {
   "cell_type": "code",
   "execution_count": 9,
   "id": "721fa3be-491d-411c-9f1a-fbf326a0070d",
   "metadata": {},
   "outputs": [
    {
     "name": "stdout",
     "output_type": "stream",
     "text": [
      "+----------+\n",
      "| namespace|\n",
      "+----------+\n",
      "|spark_demo|\n",
      "+----------+\n"
     ]
    },
    {
     "data": {
      "text/plain": [
       "DataFrame[]"
      ]
     },
     "execution_count": 9,
     "metadata": {},
     "output_type": "execute_result"
    }
   ],
   "source": [
    "#Show namespaces\n",
    "spark.sql(\"show namespaces\").show()\n",
    "\n",
    "#Create namespace\n",
    "spark.sql(\"create namespace if not exists spark_demo\")\n",
    "\n",
    "spark.sql(\"use namespace spark_demo\")"
   ]
  },
  {
   "cell_type": "code",
   "execution_count": 10,
   "id": "c3d1721e-2493-4587-8bd7-b01611c91d1b",
   "metadata": {},
   "outputs": [
    {
     "name": "stderr",
     "output_type": "stream",
     "text": [
      "SLF4J: Failed to load class \"org.slf4j.impl.StaticLoggerBinder\".\n",
      "SLF4J: Defaulting to no-operation (NOP) logger implementation\n",
      "SLF4J: See http://www.slf4j.org/codes.html#StaticLoggerBinder for further details.\n",
      "                                                                                \r"
     ]
    },
    {
     "data": {
      "text/plain": [
       "DataFrame[]"
      ]
     },
     "execution_count": 10,
     "metadata": {},
     "output_type": "execute_result"
    }
   ],
   "source": [
    "# Create the 'customer' table with sample schema\n",
    "spark.sql(\"\"\"\n",
    "CREATE TABLE IF NOT EXISTS customer (\n",
    "    customer_id INT,\n",
    "    first_name STRING,\n",
    "    last_name STRING,\n",
    "    email STRING,\n",
    "    phone STRING,\n",
    "    address STRING,\n",
    "    city STRING,\n",
    "    state STRING,\n",
    "    zip_code STRING,\n",
    "    country STRING\n",
    ") USING iceberg\n",
    "\"\"\")\n",
    "\n",
    "# Insert some sample mock data into the 'customer' table\n",
    "spark.sql(\"\"\"\n",
    "INSERT INTO customer VALUES\n",
    "(1, 'John', 'Doe', 'johndoe@example.com', '555-1234', '123 Main St', 'New York', 'NY', '10001', 'USA'),\n",
    "(2, 'Jane', 'Smith', 'janesmith@example.com', '555-5678', '456 Maple Ave', 'Los Angeles', 'CA', '90001', 'USA'),\n",
    "(3, 'Sam', 'Brown', 'sambrown@example.com', '555-9876', '789 Oak St', 'Chicago', 'IL', '60601', 'USA'),\n",
    "(4, 'Emily', 'Jones', 'emilyjones@example.com', '555-4321', '101 Pine St', 'San Francisco', 'CA', '94101', 'USA')\n",
    "\"\"\")\n",
    "\n"
   ]
  },
  {
   "cell_type": "markdown",
   "id": "4ccd99d8-7495-44b1-9064-2ef543fd53ee",
   "metadata": {},
   "source": [
    "# Query Iceberg tables"
   ]
  },
  {
   "cell_type": "code",
   "execution_count": 26,
   "id": "65110327-48fb-4851-8bab-1a43953dcfed",
   "metadata": {},
   "outputs": [
    {
     "name": "stderr",
     "output_type": "stream",
     "text": [
      "[Stage 2:>                                                          (0 + 1) / 1]\r"
     ]
    },
    {
     "name": "stdout",
     "output_type": "stream",
     "text": [
      "+-----------+----------+---------+--------------------+--------+-------------+-------------+-----+--------+-------+\n",
      "|customer_id|first_name|last_name|               email|   phone|      address|         city|state|zip_code|country|\n",
      "+-----------+----------+---------+--------------------+--------+-------------+-------------+-----+--------+-------+\n",
      "|          1|      John|      Doe| johndoe@example.com|555-1234|  123 Main St|     New York|   NY|   10001|    USA|\n",
      "|          2|      Jane|    Smith|janesmith@example...|555-5678|456 Maple Ave|  Los Angeles|   CA|   90001|    USA|\n",
      "|          3|       Sam|    Brown|sambrown@example.com|555-9876|   789 Oak St|      Chicago|   IL|   60601|    USA|\n",
      "|          4|     Emily|    Jones|emilyjones@exampl...|555-4321|  101 Pine St|San Francisco|   CA|   94101|    USA|\n",
      "+-----------+----------+---------+--------------------+--------+-------------+-------------+-----+--------+-------+\n"
     ]
    },
    {
     "name": "stderr",
     "output_type": "stream",
     "text": [
      "                                                                                \r"
     ]
    }
   ],
   "source": [
    "# Query the 'customer' table to verify the records\n",
    "spark.sql(\"SELECT * FROM customer\").show()"
   ]
  },
  {
   "cell_type": "markdown",
   "id": "acff1656-2136-498b-ae98-f5a6d960a0c2",
   "metadata": {},
   "source": [
    " ```\n",
    "\n",
    "CREATE OR REPLACE EXTERNAL VOLUME polaris_volume\n",
    "STORAGE_LOCATIONS =\n",
    "  (\n",
    "     (\n",
    "        NAME = 'ext_vol'\n",
    "        STORAGE_PROVIDER = 'S3'\n",
    "        STORAGE_BASE_URL = 's3://<BUCKET>/demo-polaris/'\n",
    "        STORAGE_AWS_ROLE_ARN = 'arn:aws:iam::<ACCOUNT>:role/snowflake_int_role'\n",
    "        STORAGE_AWS_EXTERNAL_ID = 'ext_vol'\n",
    "     )\n",
    "  );\n",
    "\n",
    "DESC EXTERNAL VOLUME polaris_volume;\n",
    "\n",
    "  \n",
    "create or replace iceberg table customer\n",
    "  catalog = 'demo_open_catalog_int'\n",
    "  external_volume = 'polaris_volume'\n",
    "  catalog_table_name = 'customer'\n",
    "\n",
    "select * from customer;\n",
    "```"
   ]
  }
 ],
 "metadata": {
  "kernelspec": {
   "display_name": "Python 3 (ipykernel)",
   "language": "python",
   "name": "python3"
  },
  "language_info": {
   "codemirror_mode": {
    "name": "ipython",
    "version": 3
   },
   "file_extension": ".py",
   "mimetype": "text/x-python",
   "name": "python",
   "nbconvert_exporter": "python",
   "pygments_lexer": "ipython3",
   "version": "3.11.7"
  }
 },
 "nbformat": 4,
 "nbformat_minor": 5
}
